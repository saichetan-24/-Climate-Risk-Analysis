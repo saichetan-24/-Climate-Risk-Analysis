{
  "nbformat": 4,
  "nbformat_minor": 0,
  "metadata": {
    "colab": {
      "provenance": []
    },
    "kernelspec": {
      "name": "python3",
      "display_name": "Python 3"
    },
    "language_info": {
      "name": "python"
    }
  },
  "cells": [
    {
      "cell_type": "code",
      "execution_count": 2,
      "metadata": {
        "colab": {
          "base_uri": "https://localhost:8080/"
        },
        "id": "Pr-CPMFxf9Nc",
        "outputId": "0c5bc511-ae5c-45db-ab23-b7d26147d284"
      },
      "outputs": [
        {
          "output_type": "stream",
          "name": "stdout",
          "text": [
            "Mounted at /content/drive\n"
          ]
        }
      ],
      "source": [
        "from google.colab import drive\n",
        "drive.mount('/content/drive')"
      ]
    },
    {
      "cell_type": "code",
      "source": [
        "rainfall_path = \"/content/drive/MyDrive/Colab Notebooks/edunet/district wise rainfall normal.csv\"\n",
        "water_path    = \"/content/drive/MyDrive/Colab Notebooks/edunet/water_dataX.csv\""
      ],
      "metadata": {
        "id": "rEP2OmpBiR5z"
      },
      "execution_count": 3,
      "outputs": []
    },
    {
      "cell_type": "code",
      "source": [
        "import pandas as pd\n",
        "import numpy as np"
      ],
      "metadata": {
        "id": "0jR94vG9iXFG"
      },
      "execution_count": 5,
      "outputs": []
    },
    {
      "cell_type": "code",
      "source": [
        "rain = pd.read_csv(rainfall_path)\n",
        "# water = pd.read_csv(water_path)\n",
        "water = pd.read_csv(water_path, encoding='latin1')  # or try 'I-SO8859-1' or 'cp1252'\n",
        "print(\"✅ Datasets Loaded Successfully\")\n"
      ],
      "metadata": {
        "colab": {
          "base_uri": "https://localhost:8080/"
        },
        "id": "3rWxr4VOiU2-",
        "outputId": "9359ee7c-5bcc-44c7-e8ad-9091dcb80841"
      },
      "execution_count": 9,
      "outputs": [
        {
          "output_type": "stream",
          "name": "stdout",
          "text": [
            "✅ Datasets Loaded Successfully\n"
          ]
        }
      ]
    },
    {
      "cell_type": "code",
      "source": [
        "print(\"\\n--- Rainfall Dataset Info ---\")\n",
        "print(rain.info())\n"
      ],
      "metadata": {
        "colab": {
          "base_uri": "https://localhost:8080/"
        },
        "id": "GJo6ZOKWjSUR",
        "outputId": "ee558294-bb04-42b9-977f-bdd9c4d811cd"
      },
      "execution_count": 10,
      "outputs": [
        {
          "output_type": "stream",
          "name": "stdout",
          "text": [
            "\n",
            "--- Rainfall Dataset Info ---\n",
            "<class 'pandas.core.frame.DataFrame'>\n",
            "RangeIndex: 641 entries, 0 to 640\n",
            "Data columns (total 19 columns):\n",
            " #   Column         Non-Null Count  Dtype  \n",
            "---  ------         --------------  -----  \n",
            " 0   STATE_UT_NAME  641 non-null    object \n",
            " 1   DISTRICT       641 non-null    object \n",
            " 2   JAN            641 non-null    float64\n",
            " 3   FEB            641 non-null    float64\n",
            " 4   MAR            641 non-null    float64\n",
            " 5   APR            641 non-null    float64\n",
            " 6   MAY            641 non-null    float64\n",
            " 7   JUN            641 non-null    float64\n",
            " 8   JUL            641 non-null    float64\n",
            " 9   AUG            641 non-null    float64\n",
            " 10  SEP            641 non-null    float64\n",
            " 11  OCT            641 non-null    float64\n",
            " 12  NOV            641 non-null    float64\n",
            " 13  DEC            641 non-null    float64\n",
            " 14  ANNUAL         641 non-null    float64\n",
            " 15  Jan-Feb        641 non-null    float64\n",
            " 16  Mar-May        641 non-null    float64\n",
            " 17  Jun-Sep        641 non-null    float64\n",
            " 18  Oct-Dec        641 non-null    float64\n",
            "dtypes: float64(17), object(2)\n",
            "memory usage: 95.3+ KB\n",
            "None\n"
          ]
        }
      ]
    },
    {
      "cell_type": "code",
      "source": [
        "print(\"\\n--- Rainfall Dataset Description ---\")\n",
        "print(rain.describe())\n"
      ],
      "metadata": {
        "colab": {
          "base_uri": "https://localhost:8080/"
        },
        "id": "LJ1pem99jZY5",
        "outputId": "956955e6-4abd-4e8e-ea35-d4e88c24c381"
      },
      "execution_count": 11,
      "outputs": [
        {
          "output_type": "stream",
          "name": "stdout",
          "text": [
            "\n",
            "--- Rainfall Dataset Description ---\n",
            "              JAN         FEB         MAR         APR         MAY  \\\n",
            "count  641.000000  641.000000  641.000000  641.000000  641.000000   \n",
            "mean    18.355070   20.984399   30.034789   45.543214   81.535101   \n",
            "std     21.082806   27.729596   45.451082   71.556279  111.960390   \n",
            "min      0.000000    0.000000    0.000000    0.000000    0.900000   \n",
            "25%      6.900000    7.000000    7.000000    5.000000   12.100000   \n",
            "50%     13.300000   12.300000   12.700000   15.100000   33.900000   \n",
            "75%     19.200000   24.100000   33.200000   48.300000   91.900000   \n",
            "max    144.500000  229.600000  367.900000  554.400000  733.700000   \n",
            "\n",
            "               JUN          JUL          AUG         SEP         OCT  \\\n",
            "count   641.000000   641.000000   641.000000  641.000000  641.000000   \n",
            "mean    196.007332   326.033697   291.152262  194.609048   90.446334   \n",
            "std     196.556284   221.364643   152.647325   99.830540   74.990685   \n",
            "min       3.800000    11.600000    14.100000    8.600000    3.100000   \n",
            "25%      68.800000   206.400000   194.600000  128.800000   34.300000   \n",
            "50%     131.900000   293.700000   284.800000  181.300000   62.600000   \n",
            "75%     226.600000   374.800000   358.100000  234.100000  130.200000   \n",
            "max    1476.200000  1820.900000  1522.100000  826.300000  517.700000   \n",
            "\n",
            "              NOV         DEC       ANNUAL     Jan-Feb      Mar-May  \\\n",
            "count  641.000000  641.000000   641.000000  641.000000   641.000000   \n",
            "mean    34.117473   18.150858  1346.969579   39.339470   157.113105   \n",
            "std     59.371274   32.711009   838.878874   47.212773   213.445888   \n",
            "min      1.200000    0.000000    94.600000    0.000000     1.500000   \n",
            "25%      6.600000    5.300000   830.400000   14.700000    27.800000   \n",
            "50%     12.900000    7.900000  1116.200000   27.700000    67.200000   \n",
            "75%     32.300000   14.900000  1530.900000   41.100000   172.400000   \n",
            "max    475.100000  297.700000  7229.300000  335.300000  1256.500000   \n",
            "\n",
            "          Jun-Sep      Oct-Dec  \n",
            "count   641.00000   641.000000  \n",
            "mean   1007.80234   142.714665  \n",
            "std     629.33261   148.951752  \n",
            "min      39.60000     5.600000  \n",
            "25%     625.40000    51.600000  \n",
            "50%     896.60000    86.700000  \n",
            "75%    1193.80000   175.200000  \n",
            "max    5228.00000  1048.500000  \n"
          ]
        }
      ]
    },
    {
      "cell_type": "code",
      "source": [
        "print(\"\\n--- Rainfall Missing Values ---\")\n",
        "print(rain.isnull().sum())\n"
      ],
      "metadata": {
        "colab": {
          "base_uri": "https://localhost:8080/"
        },
        "id": "UT79k4pijdyj",
        "outputId": "cf467343-c968-4a31-f9dd-1543f4546078"
      },
      "execution_count": 12,
      "outputs": [
        {
          "output_type": "stream",
          "name": "stdout",
          "text": [
            "\n",
            "--- Rainfall Missing Values ---\n",
            "STATE_UT_NAME    0\n",
            "DISTRICT         0\n",
            "JAN              0\n",
            "FEB              0\n",
            "MAR              0\n",
            "APR              0\n",
            "MAY              0\n",
            "JUN              0\n",
            "JUL              0\n",
            "AUG              0\n",
            "SEP              0\n",
            "OCT              0\n",
            "NOV              0\n",
            "DEC              0\n",
            "ANNUAL           0\n",
            "Jan-Feb          0\n",
            "Mar-May          0\n",
            "Jun-Sep          0\n",
            "Oct-Dec          0\n",
            "dtype: int64\n"
          ]
        }
      ]
    },
    {
      "cell_type": "code",
      "source": [
        "print(\"\\n--- Water Dataset Info ---\")\n",
        "print(water.info())"
      ],
      "metadata": {
        "colab": {
          "base_uri": "https://localhost:8080/"
        },
        "id": "KDWv2zYUjhHG",
        "outputId": "be42cfbc-ff05-4629-8a79-975c15b9842d"
      },
      "execution_count": 13,
      "outputs": [
        {
          "output_type": "stream",
          "name": "stdout",
          "text": [
            "\n",
            "--- Water Dataset Info ---\n",
            "<class 'pandas.core.frame.DataFrame'>\n",
            "RangeIndex: 1991 entries, 0 to 1990\n",
            "Data columns (total 12 columns):\n",
            " #   Column                            Non-Null Count  Dtype \n",
            "---  ------                            --------------  ----- \n",
            " 0   STATION CODE                      1991 non-null   object\n",
            " 1   LOCATIONS                         1991 non-null   object\n",
            " 2   STATE                             1991 non-null   object\n",
            " 3   Temp                              1991 non-null   object\n",
            " 4   D.O. (mg/l)                       1991 non-null   object\n",
            " 5   PH                                1991 non-null   object\n",
            " 6   CONDUCTIVITY (µmhos/cm)           1991 non-null   object\n",
            " 7   B.O.D. (mg/l)                     1991 non-null   object\n",
            " 8   NITRATENAN N+ NITRITENANN (mg/l)  1991 non-null   object\n",
            " 9   FECAL COLIFORM (MPN/100ml)        1991 non-null   object\n",
            " 10  TOTAL COLIFORM (MPN/100ml)Mean    1991 non-null   object\n",
            " 11  year                              1991 non-null   int64 \n",
            "dtypes: int64(1), object(11)\n",
            "memory usage: 186.8+ KB\n",
            "None\n"
          ]
        }
      ]
    },
    {
      "cell_type": "code",
      "source": [
        "print(\"\\n--- Water Dataset Description ---\")\n",
        "print(water.describe())"
      ],
      "metadata": {
        "colab": {
          "base_uri": "https://localhost:8080/"
        },
        "id": "n-cgAdZtjl0a",
        "outputId": "947f744a-0c9b-4126-f827-f8e4ccd78068"
      },
      "execution_count": 14,
      "outputs": [
        {
          "output_type": "stream",
          "name": "stdout",
          "text": [
            "\n",
            "--- Water Dataset Description ---\n",
            "              year\n",
            "count  1991.000000\n",
            "mean   2010.038172\n",
            "std       3.057333\n",
            "min    2003.000000\n",
            "25%    2008.000000\n",
            "50%    2011.000000\n",
            "75%    2013.000000\n",
            "max    2014.000000\n"
          ]
        }
      ]
    },
    {
      "cell_type": "code",
      "source": [
        "print(\"\\n--- Water Dataset Missing Values ---\")\n",
        "print(water.isnull().sum())"
      ],
      "metadata": {
        "colab": {
          "base_uri": "https://localhost:8080/"
        },
        "id": "DIE-nadgjr9Y",
        "outputId": "e8ba1d12-69d0-4e7d-c4db-029d44628e23"
      },
      "execution_count": 15,
      "outputs": [
        {
          "output_type": "stream",
          "name": "stdout",
          "text": [
            "\n",
            "--- Water Dataset Missing Values ---\n",
            "STATION CODE                        0\n",
            "LOCATIONS                           0\n",
            "STATE                               0\n",
            "Temp                                0\n",
            "D.O. (mg/l)                         0\n",
            "PH                                  0\n",
            "CONDUCTIVITY (µmhos/cm)             0\n",
            "B.O.D. (mg/l)                       0\n",
            "NITRATENAN N+ NITRITENANN (mg/l)    0\n",
            "FECAL COLIFORM (MPN/100ml)          0\n",
            "TOTAL COLIFORM (MPN/100ml)Mean      0\n",
            "year                                0\n",
            "dtype: int64\n"
          ]
        }
      ]
    }
  ]
}